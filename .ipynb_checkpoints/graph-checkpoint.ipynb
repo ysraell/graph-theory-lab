{
 "cells": [
  {
   "cell_type": "code",
   "execution_count": 2,
   "metadata": {},
   "outputs": [],
   "source": [
    "class Grafo(object):\n",
    "    \"\"\"\n",
    "    Classe base para as classes GrafoListaAdj e GrafoMatrizAdj\n",
    "    \"\"\"\n",
    "    def __init__(self, orientado = False):\n",
    "        \"\"\"\n",
    "        Grafo se orientado = False ou Digrafo se orientado = True.\n",
    "        \"\"\"\n",
    "        self.n, self.m, self.orientado = None, None, orientado\n",
    "        \n",
    "    def DefinirN(self, n):\n",
    "        \"\"\"\n",
    "        Define o número n de vértices.\n",
    "        \"\"\"\n",
    "        self.n, self.m = n, 0\n",
    "        \n",
    "    def V(self):\n",
    "        \"\"\"\n",
    "        Retorna a lista de vértices.\n",
    "        \"\"\"\n",
    "        for i in range(1, slef.n+1):\n",
    "            yield i\n",
    "    \n",
    "    def E(self, IterarSobreNo = False):\n",
    "        \"\"\"\n",
    "        Retorna lista de arestas uv, onde u é um inteiro e v é um\n",
    "        inteiro se o grafo é GrafoMatrizAdj ou IterarSobreNo = False;\n",
    "        v é um GrafoListaAdj.NoAresta, caso contrário.\n",
    "        \"\"\"\n",
    "        for v in self.V():\n",
    "            for w in self.N(v, Tipo = \"+\" if self.orientado else \"*\",\n",
    "                           IterarSobreNo = IterarSobreNo):\n",
    "                enumerar =  True\n",
    "                if not self.orientado:\n",
    "                    wint = w if isinstance(w, int) else w.Viz\n",
    "                    enumerar = v < wint\n",
    "                if enumerar:\n",
    "                    yield (v, w)\n",
    "\n",
    "    "
   ]
  },
  {
   "cell_type": "code",
   "execution_count": null,
   "metadata": {},
   "outputs": [],
   "source": []
  }
 ],
 "metadata": {
  "kernelspec": {
   "display_name": "Python 3",
   "language": "python",
   "name": "python3"
  },
  "language_info": {
   "codemirror_mode": {
    "name": "ipython",
    "version": 3
   },
   "file_extension": ".py",
   "mimetype": "text/x-python",
   "name": "python",
   "nbconvert_exporter": "python",
   "pygments_lexer": "ipython3",
   "version": "3.6.5"
  }
 },
 "nbformat": 4,
 "nbformat_minor": 2
}
